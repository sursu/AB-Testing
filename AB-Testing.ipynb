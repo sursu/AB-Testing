{
 "cells": [
  {
   "cell_type": "markdown",
   "metadata": {},
   "source": [
    "# A/B Testing"
   ]
  },
  {
   "cell_type": "markdown",
   "metadata": {},
   "source": [
    "---"
   ]
  },
  {
   "cell_type": "code",
   "execution_count": null,
   "metadata": {},
   "outputs": [],
   "source": [
    "import pandas as pd\n",
    "import numpy as np\n",
    "from scipy import stats, special\n",
    "\n",
    "import pymc3 as pm\n",
    "from ipywidgets import interact\n",
    "\n",
    "import plotly.graph_objs as go\n",
    "from plotly.offline import init_notebook_mode, iplot\n",
    "init_notebook_mode(connected=True)"
   ]
  },
  {
   "cell_type": "markdown",
   "metadata": {},
   "source": [
    "---\n",
    "#### Load / Generate Time Series"
   ]
  },
  {
   "cell_type": "code",
   "execution_count": null,
   "metadata": {},
   "outputs": [],
   "source": [
    "N = 365 # days"
   ]
  },
  {
   "cell_type": "code",
   "execution_count": null,
   "metadata": {},
   "outputs": [],
   "source": [
    "A = np.random.lognormal(mean=0.0, sigma=1.1, size=N)\n",
    "B = np.random.lognormal(mean=0.3, sigma=0.8, size=N)"
   ]
  },
  {
   "cell_type": "code",
   "execution_count": null,
   "metadata": {},
   "outputs": [],
   "source": [
    "pd.DataFrame({'A':A,'B':B}).to_csv('data.csv', index=False)"
   ]
  },
  {
   "cell_type": "code",
   "execution_count": null,
   "metadata": {},
   "outputs": [],
   "source": [
    "A, B = pd.read_csv('data.csv').values.T"
   ]
  },
  {
   "cell_type": "code",
   "execution_count": null,
   "metadata": {},
   "outputs": [],
   "source": [
    "X = np.arange(1000)+1 # x range"
   ]
  },
  {
   "cell_type": "code",
   "execution_count": null,
   "metadata": {},
   "outputs": [],
   "source": [
    "# ALL the visitors\n",
    "# Visitors randomly assigned to \n",
    "allA = (3+np.random.beta(a=5, b=20, size=N))*A + 30\n",
    "\n",
    "allB = (3+np.random.beta(a=5, b=20, size=N))*B + 30"
   ]
  },
  {
   "cell_type": "code",
   "execution_count": null,
   "metadata": {},
   "outputs": [],
   "source": [
    "# Mean on a 7-day rolling basis\n",
    "w = 4\n",
    "allA, allB = pd.DataFrame({'allA': allA, 'allB': allB}).rolling(w).mean().values.T\n",
    "allA[:(w-1)], allB[:(w-1)] = allA[(w-1):2*(w-1)], allB[(w-1):2*(w-1)]"
   ]
  },
  {
   "cell_type": "markdown",
   "metadata": {},
   "source": [
    "---"
   ]
  },
  {
   "cell_type": "code",
   "execution_count": null,
   "metadata": {},
   "outputs": [],
   "source": [
    "# Plot the A & B time series\n",
    "trace_A = go.Scatter(x=X, y=A, name = \"A\", opacity = 0.8)\n",
    "trace_allA = go.Scatter(x=X, y=allA, name = \"allA\", opacity = 0.8, line = dict(color = '#64b1fe'))\n",
    "\n",
    "trace_B = go.Scatter(x=X, y=B, name = \"B\", opacity = 0.8)\n",
    "trace_allB = go.Scatter(x=X, y=allB, name = \"allB\", opacity = 0.8, line = dict(color = '#36fe8e'))\n",
    "\n",
    "data = [trace_A,trace_allA, trace_B, trace_allB]\n",
    "\n",
    "layout = dict(\n",
    "    title = \"Split Test\",\n",
    ")\n",
    "\n",
    "fig = dict(data=data, layout=layout)\n",
    "iplot(fig, show_link=False)"
   ]
  },
  {
   "cell_type": "markdown",
   "metadata": {},
   "source": [
    "`Question:` Which segment performs better?"
   ]
  },
  {
   "cell_type": "markdown",
   "metadata": {},
   "source": [
    "---\n",
    "\n",
    "---\n",
    "\n",
    "## `1.` Chi-Squared Test / z-test for independent proportions\n",
    "\n",
    "see:\n",
    "\n",
    "[1] [A/B testing and Pearson's chi-squared test of independence](http://thestatsgeek.com/2013/07/22/ab-testing/) $\\checkmark$\n",
    "\n",
    "[2] [A/B testing - confidence interval for the difference in proportions using R](http://thestatsgeek.com/2014/02/15/ab-testing-confidence-interval-for-the-difference-in-proportions-using-r/) $\\checkmark$\n",
    "\n",
    "[3] [z-test for independent proportions](http://influentialpoints.com/Training/z-test_for_independent_proportions-principles-properties-assumptions.htm) $\\checkmark$\n",
    "\n",
    "[3] [The Binomial, Chi-squared and Fisher’s Exact tests](http://davidquigley.com/talks/2015/biostatistics/module_07.1.html)\n",
    "\n",
    "[4] [Tests for Two \n",
    "Proportions](https://ncss-wpengine.netdna-ssl.com/wp-content/themes/ncss/pdf/Procedures/PASS/Tests_for_Two_Proportions.pdf)\n",
    "\n",
    "[5] [Exact two sample proportions binomial test in R (and some strange p-values)](https://stats.stackexchange.com/questions/123609/exact-two-sample-proportions-binomial-test-in-r-and-some-strange-p-values)"
   ]
  },
  {
   "cell_type": "markdown",
   "metadata": {},
   "source": [
    "---\n",
    "**Assumptions:**\n",
    "\n",
    "- Sampling or allocation is random\n",
    "- We have a sufficiently large sample\n",
    "- Observations are independent\n",
    "- Mutual exclusivity (A given case may fall only in one class)\n",
    "- Errors are normally distributed <br/>\n",
    "(Provided that the cell frequencies are reasonably large ($n$ is large and/or $p$ is close to ½), cell values in a 2 × 2 contingency table will be distributed normally about their expected values. \n",
    "If any expected frequency is less than 5, or of if pqn is less than 5, then providing you want a conventional P-value, the continuity correction should be applied.)\n",
    "\n",
    "\n",
    "Cons:\n",
    "- These tests don't really care about the trend by the date (i.e. does not care about spikes, trends, seasonality.. only looks at aggregate results)\n",
    "- Assume sufficiently large samples\n",
    "\n",
    "<br/>"
   ]
  },
  {
   "cell_type": "markdown",
   "metadata": {},
   "source": [
    "**IDEA**\n",
    "\n",
    "Let's suppose that we have obtained data from $n$ visitors, $n_A$ of which have been (randomly) sent to page A, and $n_B$ of which have been sent to page B.\n",
    "Let $\\pi_A$, $\\pi_B$ denote the true success proportions for each of the segment (i.e. conversion rates). \n",
    "<br/>\n",
    "\n",
    "---\n",
    "$Null\\; hypothesis:$\n",
    "\n",
    "$$\\pi_A = \\pi_B$$\n",
    "\n",
    "Is there evidence against the null?\n",
    "\n",
    "---\n",
    "\n",
    "*Hypothesis Test*:\n",
    "\n",
    "We may estimate these proportions by $\\hat{\\pi}_A$ and $\\hat{\\pi}_B$.\n",
    "\n",
    "1. Compute a test statistic: some function of the data (measures the disparity between the proportions) <br/><br/>\n",
    "\n",
    "2. Derive the distribution of this test statistic (in repeated sampling) under the null hypothesis. <br/> It's precise distribution depends on the sampling model. <br/><br/>\n",
    "\n",
    "3. Compute the p-value:\n",
    "\n",
    "The *p-value* indicates the probability (under the null) that the test statistic takes a value equal to, or more extreme than the value observed. <br/>\n",
    "Or, in different words: if A & B had the same conversion rate, *p-value* would tell us the chances of obtaining a test statistic, in absolute terms, at least as small as the one we've computed."
   ]
  },
  {
   "cell_type": "markdown",
   "metadata": {},
   "source": [
    "---\n",
    "### `1.1` z-test for independent proportions\n",
    "\n",
    "\n",
    "The standard test uses the common pooled proportion to estimate the variance of the difference between two proportions. It is identical to the chi square test, except that we estimate the standard normal deviate (z). The square of the test statistic (z2) is identical to the Pearson's chi square statistic X2.\n",
    "\n",
    "1. Test statistic:\n",
    "\n",
    "$$z = \\frac{\\hat{\\pi}_A-\\hat{\\pi}_B}{SE}$$\n",
    "\n",
    "Where $\\hat{\\pi}_A-\\hat{\\pi}_B$ is a point estimate of $\\pi_A-\\pi_B$ and SE denotes the estimated standard error of the difference in proportions (under the null):\n",
    "\n",
    "* *Pooled*:\n",
    "\n",
    "$$SE^2 =  Var \\: (\\hat{\\pi}_A-\\hat{\\pi}_B) = Var \\: (\\hat{\\pi}_A) + Var \\: (\\hat{\\pi}_B) = \\pi (1-\\pi)/n_A + \\pi (1-\\pi)/n_B = \\pi (1-\\pi) \\left(\\frac{1}{n_A} +  \\frac{1}{n_B}\\right)$$\n",
    "\n",
    "with $\\pi$ being the success proportion over the both segments.\n",
    "\n",
    "* *Unpooled*:\n",
    "\n",
    "$$SE^2 =  Var \\: (\\hat{\\pi}_A-\\hat{\\pi}_B) = Var \\: (\\hat{\\pi}_A) + Var \\: (\\hat{\\pi}_B) = \\frac{\\pi_A (1-\\pi_A)}{n_A} + \\frac{\\pi_B (1-\\pi_B)}{n_B}$$"
   ]
  },
  {
   "cell_type": "code",
   "execution_count": null,
   "metadata": {},
   "outputs": [],
   "source": [
    "# successes    # size of the group\n",
    "X_A = sum(A);  n_A = sum(allA)   # group A\n",
    "X_B = sum(B);  n_B = sum(allB)   # group B"
   ]
  },
  {
   "cell_type": "code",
   "execution_count": null,
   "metadata": {},
   "outputs": [],
   "source": [
    "# Success proportions\n",
    "a = X_A / n_A\n",
    "b = X_B / n_B"
   ]
  },
  {
   "cell_type": "code",
   "execution_count": null,
   "metadata": {},
   "outputs": [],
   "source": [
    "# Pi\n",
    "p = (X_A + X_B) / (n_A + n_B)"
   ]
  },
  {
   "cell_type": "code",
   "execution_count": null,
   "metadata": {},
   "outputs": [],
   "source": [
    "# Standard Error \n",
    "SE_p = np.sqrt(p*(1-p)*(1/n_A+1/n_B))   # Pooled\n",
    "SE_u = np.sqrt(a*(1-a)/n_A+b*(1-b)/n_B) # Unpooled"
   ]
  },
  {
   "cell_type": "markdown",
   "metadata": {},
   "source": [
    "Because different estimates of the variance are used, it is possible that the results of the test may not be consistent with the confidence interval. In other words, the confidence interval of the difference may overlap zero (indicating no significant difference), yet the test indicates a significant difference."
   ]
  },
  {
   "cell_type": "code",
   "execution_count": null,
   "metadata": {},
   "outputs": [],
   "source": [
    "# Test Statistic\n",
    "z = abs(a-b) / SE_p\n",
    "print(z, '\\tvs.\\t', abs(a-b) / SE_u)"
   ]
  },
  {
   "attachments": {
    "image.png": {
     "image/png": "[encoded data removed]"
    }
   },
   "cell_type": "markdown",
   "metadata": {},
   "source": [
    "![image.png](attachment:image.png)"
   ]
  },
  {
   "cell_type": "code",
   "execution_count": null,
   "metadata": {},
   "outputs": [],
   "source": [
    "z_alpha = stats.norm.ppf(0.975)\n",
    "z_alpha"
   ]
  },
  {
   "cell_type": "code",
   "execution_count": null,
   "metadata": {},
   "outputs": [],
   "source": [
    "# Probability in the tails up to the value of +/-z\n",
    "pvalue = 2*stats.norm.cdf(-z) # symmetry\n",
    "pvalue"
   ]
  },
  {
   "cell_type": "code",
   "execution_count": null,
   "metadata": {},
   "outputs": [],
   "source": [
    "if pvalue > 0.05:\n",
    "    print('We do not have strong evidence against the null here.')\n",
    "    SE = SE_p\n",
    "else:\n",
    "    print('We do have evidence against the null hypothesis!')\n",
    "    SE = SE_u"
   ]
  },
  {
   "cell_type": "markdown",
   "metadata": {},
   "source": [
    "---\n",
    "#### Confidence Intervals\n",
    "\n",
    "One may also be interested in the confidence interval for $\\pi_A-\\pi_B$. \n",
    "\n",
    "The confidence interval gives us a range of values for the difference in proportions which are consistent with the data we have observed.\n",
    "\n",
    "---\n",
    "\n",
    "If the null hypothesis has been rejected, then we can no longer use the estimate of the standard error of the difference based on the combined samples. Instead the standard error of the difference is obtained by taking the square root of the sum of the individual variances."
   ]
  },
  {
   "cell_type": "markdown",
   "metadata": {},
   "source": [
    "---\n",
    "`Confidence interval based on the normal distribution`\n",
    "\n",
    "! the normal approximation interval for the difference between proportions performs poorly"
   ]
  },
  {
   "cell_type": "code",
   "execution_count": null,
   "metadata": {
    "scrolled": true
   },
   "outputs": [],
   "source": [
    "print('Difference in proportions:',a-b,'\\nCI: (', a-b - z_alpha*SE,',', \n",
    "                                                  a-b + z_alpha*SE,')')"
   ]
  },
  {
   "cell_type": "markdown",
   "metadata": {},
   "source": [
    "---\n",
    "##### Correction for continuity\n",
    "\n",
    "The sampling distribution of the estimator is discrete - the binomial distribution, while we are using a continuous distribution to represent the discrete distribution of sample frequencies - the normal distribution.\n",
    "\n",
    "For small sample sizes, many statisticians feel that a correction for continuity should be applied.\n",
    "\n",
    "The Yates correction to either formula is achieved by subtracting $\\frac{1}{2}\\left(\\frac{1}{n_A} + \\frac{1}{n_B}\\right)$ from the modulus of the difference between the proportions.\n",
    "\n",
    "---\n",
    "\n",
    "[1] [Continuity Correction Factor: What is it?](http://www.statisticshowto.com/what-is-the-continuity-correction-factor/)"
   ]
  },
  {
   "cell_type": "markdown",
   "metadata": {},
   "source": [
    "---\n",
    "`Continuity corrected interval for the difference of proportions`"
   ]
  },
  {
   "cell_type": "code",
   "execution_count": null,
   "metadata": {},
   "outputs": [],
   "source": [
    "# Correction term\n",
    "Yates = (1/n_A+1/n_B)/2"
   ]
  },
  {
   "cell_type": "code",
   "execution_count": null,
   "metadata": {},
   "outputs": [],
   "source": [
    "z_corr = (abs(a-b) - Yates) / SE_p\n",
    "z_corr"
   ]
  },
  {
   "cell_type": "code",
   "execution_count": null,
   "metadata": {},
   "outputs": [],
   "source": [
    "z_corr**2 # should be the same as the Chi-square statistic"
   ]
  },
  {
   "cell_type": "code",
   "execution_count": null,
   "metadata": {},
   "outputs": [],
   "source": [
    "# Probability in the tails up to the value of +/-z\n",
    "pvalue = 2*stats.norm.cdf(-z_corr)\n",
    "pvalue"
   ]
  },
  {
   "cell_type": "code",
   "execution_count": null,
   "metadata": {},
   "outputs": [],
   "source": [
    "if pvalue > 0.05:\n",
    "    print('We do not have strong evidence against the null here.')\n",
    "    SE = SE_p\n",
    "else:\n",
    "    print('We do have evidence against the null hypothesis!')\n",
    "    SE = SE_u"
   ]
  },
  {
   "cell_type": "code",
   "execution_count": null,
   "metadata": {},
   "outputs": [],
   "source": [
    "# Confidence interval:\n",
    "print('CI: (', a-b - z_alpha*SE - Yates,',', \n",
    "               a-b + z_alpha*SE + Yates,')')"
   ]
  },
  {
   "cell_type": "markdown",
   "metadata": {},
   "source": [
    "---\n",
    "There are numerous suggestions for improved intervals.\n",
    "\n",
    "Disagreement on which is best is so widespread that it is difficult to know which one to recommend\n",
    "\n",
    "---\n",
    "`Newcombe Hybrid Score` (superior, more robust:  [coverage probability](https://en.wikipedia.org/wiki/Coverage_probability) is closer to the nominal value) - based on the Wilson score confidence interval for a single proportion"
   ]
  },
  {
   "attachments": {
    "image.png": {
     "image/png": "[encoded data removed]"
    }
   },
   "cell_type": "markdown",
   "metadata": {},
   "source": [
    "![image.png](attachment:image.png)"
   ]
  },
  {
   "cell_type": "code",
   "execution_count": null,
   "metadata": {},
   "outputs": [],
   "source": [
    "l1 = a*n_A/(n_A+z_alpha**2) + 0.5*z_alpha**2/(n_A+z_alpha**2)\\\n",
    "        - z_alpha * np.sqrt(1/(n_A+z_alpha**2)*(a*(1-a)*n_A/(n_A+z_alpha**2) + 0.25*z_alpha**2/(n_A+z_alpha**2)))\n",
    "u1 = l1 + 2*z_alpha * np.sqrt(1/(n_A+z_alpha**2)*(a*(1-a)*n_A/(n_A+z**2) + 0.25*z_alpha**2/(n_A+z_alpha**2)))"
   ]
  },
  {
   "cell_type": "code",
   "execution_count": null,
   "metadata": {},
   "outputs": [],
   "source": [
    "l2 = b*n_B/(n_B+z_alpha**2) + 0.5*z_alpha**2/(n_B+z_alpha**2)\\\n",
    "        - z_alpha * np.sqrt(1/(n_B+z_alpha**2)*(b*(1-b)*n_B/(n_B+z_alpha**2) + 0.25*z_alpha**2/(n_B+z_alpha**2)))\n",
    "u2 = l2 + 2*z_alpha * np.sqrt(1/(n_B+z_alpha**2)*(b*(1-b)*n_B/(n_B+z_alpha**2) + 0.25*z**2/(n_B+z_alpha**2)))"
   ]
  },
  {
   "cell_type": "code",
   "execution_count": null,
   "metadata": {},
   "outputs": [],
   "source": [
    "# Confidence interval:\n",
    "print('CI: (', a-b - np.sqrt((a-l1)**2 + (u2-b)**2),',', \n",
    "               a-b + np.sqrt((b-l2)**2 + (u1-a)**2),')')"
   ]
  },
  {
   "cell_type": "markdown",
   "metadata": {},
   "source": [
    "---\n",
    "`Agresti-Caffo`"
   ]
  },
  {
   "cell_type": "code",
   "execution_count": null,
   "metadata": {},
   "outputs": [],
   "source": [
    "print('CI: (',a-b - z_alpha*np.sqrt(X_A*(n_A-X_A)/n_A**3 + X_B*(n_B-X_B)/n_B**3),\n",
    "              a-b + z_alpha*np.sqrt(X_A*(n_A-X_A)/n_A**3 + X_B*(n_B-X_B)/n_B**3),')')"
   ]
  },
  {
   "attachments": {
    "image.png": {
     "image/png": "[encoded data removed]"
    }
   },
   "cell_type": "markdown",
   "metadata": {},
   "source": [
    "---\n",
    "`Agresti–Min`\n",
    "\n",
    "[1] [Recommended confidence intervals for two independent binomial proportions](http://www.ms.uky.edu/~mai/sta635/FagerlandLydersenLaake2011---RecommendedCIsForTwoIndependent....pdf)\n",
    "\n",
    "![image.png](attachment:image.png)\n"
   ]
  },
  {
   "attachments": {
    "image.png": {
     "image/png": "[encoded data removed]"
    }
   },
   "cell_type": "markdown",
   "metadata": {},
   "source": [
    "![image.png](attachment:image.png)"
   ]
  },
  {
   "cell_type": "markdown",
   "metadata": {},
   "source": [
    "---\n",
    "\n",
    "https://www.google.com/url?sa=t&rct=j&q=&esrc=s&source=web&cd=10&cad=rja&uact=8&ved=0ahUKEwjDqav2-YTcAhXNIlAKHfWsDsoQwqsBCF0wCQ&url=https%3A%2F%2Fwww.khanacademy.org%2Fmath%2Fstatistics-probability%2Fsignificance-tests-one-sample%2Fmore-significance-testing-videos%2Fv%2Fone-tailed-and-two-tailed-tests&usg=AOvVaw1kiF1rqqQLqL60g3O5rsOA\n",
    "\n",
    "\n",
    "However, this might not be conclusive.\n",
    "\n",
    "A hypothetical result could be significant in a $1$-tailed test, but not in a $2$-tailed test, because it was far enough from the center to fall in the $5 \\%$ region of the curve, but not far enough out to fall into the $2.5\\%$ region.<br/>\n",
    "But, it could also go the other way $-$ because the $2$-tailed test will allow you to reject the null hypothesis based on results that fall on both ends of the bell curve.\n",
    "\n",
    "---\n",
    "\n",
    "**One sided**"
   ]
  },
  {
   "cell_type": "code",
   "execution_count": null,
   "metadata": {},
   "outputs": [],
   "source": [
    "# One-sided test\n",
    "pvalue = stats.norm.cdf(z)\n",
    "if z > 0:\n",
    "    pvalue = 1 - pvalue\n",
    "print('P-value:', 1-stats.norm.cdf(z))"
   ]
  },
  {
   "cell_type": "code",
   "execution_count": null,
   "metadata": {},
   "outputs": [],
   "source": [
    "if pvalue > 0.05:\n",
    "    print('We do not have strong evidence against the null here.')\n",
    "else:\n",
    "    print('We do have evidence against the null hypothesis!')"
   ]
  },
  {
   "cell_type": "markdown",
   "metadata": {},
   "source": [
    "---\n",
    "Comparison with **[`A/B Testing Significance Calculator`](https://neilpatel.com/ab-testing-calculator/)**"
   ]
  },
  {
   "cell_type": "code",
   "execution_count": null,
   "metadata": {},
   "outputs": [],
   "source": [
    "# successes    # size of the group\n",
    "X_A = 139;      n_A = 1000   # group A\n",
    "X_B = 120;      n_B = 1000   # group B"
   ]
  },
  {
   "cell_type": "code",
   "execution_count": null,
   "metadata": {},
   "outputs": [],
   "source": [
    "# Success proportions\n",
    "a = X_A / n_A\n",
    "b = X_B / n_B"
   ]
  },
  {
   "cell_type": "code",
   "execution_count": null,
   "metadata": {},
   "outputs": [],
   "source": [
    "# Pi\n",
    "p = (X_A + X_B) / (n_A + n_B)"
   ]
  },
  {
   "cell_type": "code",
   "execution_count": null,
   "metadata": {},
   "outputs": [],
   "source": [
    "# Standard Error \n",
    "SE_p = np.sqrt(p*(1-p)*(1/n_A+1/n_B))   # Pooled\n",
    "SE_u = np.sqrt(a*(1-a)/n_A+b*(1-b)/n_B) # Unpooled"
   ]
  },
  {
   "cell_type": "code",
   "execution_count": null,
   "metadata": {
    "scrolled": false
   },
   "outputs": [],
   "source": [
    "z = abs(a-b) / SE_p\n",
    "z"
   ]
  },
  {
   "cell_type": "code",
   "execution_count": null,
   "metadata": {},
   "outputs": [],
   "source": [
    "# One-sided test\n",
    "pvalue = stats.norm.cdf(z)\n",
    "if z > 0:\n",
    "    pvalue = 1 - pvalue\n",
    "print('P-value:', 1-stats.norm.cdf(z))"
   ]
  },
  {
   "cell_type": "code",
   "execution_count": null,
   "metadata": {},
   "outputs": [],
   "source": [
    "if (a-b)/a <= 0:\n",
    "    print('B performed {:.2f}% better than A.\\n'.format(-(a-b)/a*100))\n",
    "    print('I am {:.2f}% certain that the changes in Test \"B\" will improve your conversion rate.'\\\n",
    "          .format(stats.norm.cdf(z)*100))\n",
    "else:\n",
    "    print('A performed {:.2f}% better than B.\\n'.format(-(b-a)/b*100,'.2f'))\n",
    "    print('I am {:.2f}% certain that the changes in Test \"A\" will improve your conversion rate.'\\\n",
    "          .format(stats.norm.cdf(z)*100))"
   ]
  },
  {
   "cell_type": "code",
   "execution_count": null,
   "metadata": {},
   "outputs": [],
   "source": [
    "if pvalue < 0.05:\n",
    "    print('Your A/B test is statistically significant!')\n",
    "elif pvalue > 0.1:\n",
    "    print('Unfortunately, your results are not statistically significant.')\n",
    "else:\n",
    "    print('It is questionable whether your results are statistically significant.')"
   ]
  },
  {
   "cell_type": "markdown",
   "metadata": {},
   "source": [
    "---\n",
    "### `Central Limit Theorem`\n",
    "\n",
    "[1] [Normal Approximations ](https://revisionmaths.com/advanced-level-maths-revision/statistics/normal-approximations)\n",
    "\n",
    "[2] [Central Limit Theorem](http://mlwiki.org/index.php/Central_Limit_Theorem) $\\checkmark$\n",
    "\n",
    "[3] [Central Limit Theorem](http://sphweb.bumc.bu.edu/otlt/MPH-Modules/BS/BS704_Probability/BS704_Probability12.html)\n",
    "\n",
    "[4] [Central limit theorem for sum from varied distributions](https://stats.stackexchange.com/questions/8884/central-limit-theorem-for-sum-from-varied-distributions)\n",
    "\n",
    "The central limit theorem states that if you have a population with mean $\\mu$ and standard deviation $\\sigma$ and take sufficiently large random samples from the population with replacement, then the distribution of the sample means will be approximately normally distributed.\n",
    "\n",
    "\n",
    "According to the Central Limit Theorem, the sample mean of a distribution becomes approximately normal if the sample size is “large enough.” for example, the binomial distribution can be approximated with a normal distribution as long as $n\\times p$ and $n\\times (1-p)$ are both at least $5$."
   ]
  },
  {
   "cell_type": "markdown",
   "metadata": {},
   "source": [
    "$$\\hat{\\pi}_A=\\frac{X_A}{n_A} \\;\\; \\stackrel{H_0}{\\sim} \\;\\; \\mathcal{N}\\left(\\pi,\\frac{\\pi(1-\\pi)}{n_A}\\right)$$"
   ]
  },
  {
   "cell_type": "code",
   "execution_count": null,
   "metadata": {},
   "outputs": [],
   "source": [
    "%%time\n",
    "# simulate data to show CLT in action\n",
    "n=3000\n",
    "\n",
    "A = np.random.lognormal(mean=0.0, sigma=1.1, size=(N,n))\n",
    "B = np.random.lognormal(mean=0.3, sigma=0.8, size=(N,n))\n",
    "\n",
    "allA = (3+np.random.beta(a=5, b=20, size=(N,n)))*A + 30\n",
    "allB = (3+np.random.beta(a=5, b=20, size=(N,n)))*B + 30\n",
    "allA = pd.DataFrame(allA).rolling(w).mean().values\n",
    "allB = pd.DataFrame(allB).rolling(w).mean().values\n",
    "allA[:(w-1)], allB[:(w-1)] = allA[(w-1):2*(w-1)], allB[(w-1):2*(w-1)]\n",
    "\n",
    "piA = np.sum(A, axis=0) / np.sum(allA, axis=0)\n",
    "piB = np.sum(B, axis=0) / np.sum(allB, axis=0)"
   ]
  },
  {
   "cell_type": "code",
   "execution_count": null,
   "metadata": {},
   "outputs": [],
   "source": [
    "r = max(piA)\n",
    "xrange = np.arange(min(piA),max(piA),0.0005)\n",
    "histA = go.Histogram(x=piA, \n",
    "                    opacity=0.75, \n",
    "                    histnorm='probability density',\n",
    "#                     xbins=dict(\n",
    "#                         start=-1,\n",
    "#                         end=1,\n",
    "#                         size=0.01),\n",
    "                     name='A',\n",
    "                    showlegend=False\n",
    "                    )\n",
    "histB = go.Histogram(x=piB, \n",
    "                    opacity=0.75, \n",
    "                    histnorm='probability density',\n",
    "                     name='B',\n",
    "                     visible=False,\n",
    "#                     xbins=dict(\n",
    "#                         start=-1,\n",
    "#                         end=1,\n",
    "#                         size=0.01),\n",
    "                    showlegend=False\n",
    "                    )\n",
    "pdfA = go.Scatter(x=xrange, \n",
    "                 y=stats.norm(loc=np.mean(piA), scale=np.std(piA)).pdf(xrange),\n",
    "                 mode='lines',                      # 0.987581\n",
    "                 line=dict(width=1.5, \n",
    "                           shape='spline'),\n",
    "                 name='Normal',\n",
    "                 visible=False,\n",
    "                 showlegend=False\n",
    "                 )\n",
    "pdfB = go.Scatter(x=xrange, \n",
    "                  y=stats.norm(loc=np.mean(piB), scale=np.std(piB)).pdf(xrange),\n",
    "                  mode='lines',                      # 0.987581\n",
    "                  line=dict(width=1.5, \n",
    "                            shape='spline'),\n",
    "                  name='Normal',\n",
    "                  visible=False,\n",
    "                  showlegend=False\n",
    "                 )\n",
    "data = [histA, pdfA, histB, pdfB]\n",
    "\n",
    "updatemenus = list([\n",
    "    dict(type=\"buttons\",\n",
    "         active=-1,\n",
    "         buttons=list([\n",
    "            dict(label = 'Histogram A',\n",
    "                 method = 'update',\n",
    "                 args = [{'visible': [True, False, False, False]}]),\n",
    "            dict(label = 'PDF A',\n",
    "                 method = 'update',\n",
    "                 args = [{'visible': [True, True, False, False]}]),\n",
    "            dict(label = 'Histogram B',\n",
    "                 method = 'update',\n",
    "                 args = [{'visible': [True, True, True, False]}]),\n",
    "            dict(label = 'PDF B',\n",
    "                 method = 'update',\n",
    "                 args = [{'visible': [True, True, True, True]}])\n",
    "        ]),\n",
    "    )\n",
    "])\n",
    "\n",
    "layout = dict(showlegend=False, #title='CLT',\n",
    "              barmode='overlay',\n",
    "              xaxis = dict(range = [min(min(piA),min(piB)),r]),\n",
    "              yaxis = dict(range = [0,200]),\n",
    "              updatemenus=updatemenus)\n",
    "\n",
    "fig = dict(data=data, layout=layout)\n",
    "iplot(fig, show_link=False)"
   ]
  },
  {
   "cell_type": "markdown",
   "metadata": {},
   "source": [
    "If we were to repeat the experiment again and again. We would get the above histograms."
   ]
  },
  {
   "cell_type": "code",
   "execution_count": null,
   "metadata": {},
   "outputs": [],
   "source": [
    "histA = go.Histogram(x=np.array(piA)-np.array(piB), \n",
    "                    opacity=0.75, \n",
    "                    histnorm='probability density',\n",
    "#                     xbins=dict(\n",
    "#                         start=-1,\n",
    "#                         end=1,\n",
    "#                         size=0.01),\n",
    "                     name='A',\n",
    "                     showlegend=False,\n",
    "#                      visible=False\n",
    "                    )\n",
    "iplot([histA], show_link=False)"
   ]
  },
  {
   "cell_type": "code",
   "execution_count": null,
   "metadata": {},
   "outputs": [],
   "source": []
  },
  {
   "cell_type": "code",
   "execution_count": null,
   "metadata": {},
   "outputs": [],
   "source": []
  },
  {
   "cell_type": "code",
   "execution_count": null,
   "metadata": {},
   "outputs": [],
   "source": [
    "RV = np.random.normal(size=1000)\n",
    "r = max(max(RV),-min(RV))\n",
    "xrange = np.arange(-1.2*r,1.2*r,0.0025)\n",
    "hist = go.Histogram(x=RV, \n",
    "                    opacity=0.75, \n",
    "                    histnorm='probability density',\n",
    "                    showlegend=False\n",
    "                    )\n",
    "\n",
    "pdf = go.Scatter(x=xrange, \n",
    "                 y=stats.norm(loc=np.mean(RV), scale=np.std(RV)).pdf(xrange),\n",
    "                 mode='lines',              \n",
    "                 line=dict(width=1.5, \n",
    "                           shape='spline'),\n",
    "                 visible=False,\n",
    "                 showlegend=False\n",
    "                 )\n",
    "                 \n",
    "data = [hist, pdf]\n",
    "\n",
    "updatemenus = list([\n",
    "    dict(type=\"buttons\",\n",
    "         active=-1,\n",
    "         buttons=list([\n",
    "            dict(label = 'Histogram',\n",
    "                 method = 'update',\n",
    "                 args = [{'visible': [True, False]}]),\n",
    "            dict(label = 'Normal PDF',\n",
    "                 method = 'update',\n",
    "                 args = [{'visible': [True, True]}]),\n",
    "        ]),\n",
    "    )\n",
    "])\n",
    "\n",
    "layout = dict(showlegend=False,\n",
    "              xaxis = dict(range = [-r,r]),\n",
    "              updatemenus=updatemenus)\n",
    "\n",
    "fig = dict(data=data, layout=layout)\n",
    "iplot(fig, show_link=False)"
   ]
  },
  {
   "cell_type": "code",
   "execution_count": null,
   "metadata": {},
   "outputs": [],
   "source": []
  },
  {
   "cell_type": "code",
   "execution_count": null,
   "metadata": {},
   "outputs": [],
   "source": []
  },
  {
   "cell_type": "code",
   "execution_count": null,
   "metadata": {},
   "outputs": [],
   "source": []
  },
  {
   "cell_type": "code",
   "execution_count": null,
   "metadata": {},
   "outputs": [],
   "source": []
  },
  {
   "cell_type": "code",
   "execution_count": null,
   "metadata": {},
   "outputs": [],
   "source": []
  },
  {
   "cell_type": "code",
   "execution_count": null,
   "metadata": {},
   "outputs": [],
   "source": []
  },
  {
   "cell_type": "code",
   "execution_count": null,
   "metadata": {},
   "outputs": [],
   "source": [
    "P = A/allA-B/allB\n",
    "r = max(max(P),-min(P))\n",
    "xrange = np.arange(-r,r,0.0025)\n",
    "hist = go.Histogram(x=P, \n",
    "                    opacity=0.75, \n",
    "                    histnorm='probability density',\n",
    "                    xbins=dict(\n",
    "                        start=-1,\n",
    "                        end=1,\n",
    "                        size=0.01),\n",
    "                    showlegend=False\n",
    "                    )\n",
    "pdf = go.Scatter(x=xrange, \n",
    "                 y=stats.norm(loc=np.mean(P), scale=np.std(P[(P <= 2.5*np.std(P)) & (P > -2.5*np.std(P))])).pdf(xrange),\n",
    "                 mode='lines',                      # 0.987581\n",
    "                 line=dict(width=1.5),\n",
    "                 name='Normal',\n",
    "                 visible=False,\n",
    "                 showlegend=False\n",
    "                 )\n",
    "data = [hist, pdf]\n",
    "\n",
    "updatemenus = list([\n",
    "    dict(type=\"buttons\",\n",
    "         active=-1,\n",
    "         buttons=list([\n",
    "            dict(label = 'Histogram',\n",
    "                 method = 'update',\n",
    "                 args = [{'visible': [True, False]}]),\n",
    "            dict(label = 'Normal PDF',\n",
    "                 method = 'update',\n",
    "                 args = [{'visible': [True, True]}]),\n",
    "        ]),\n",
    "    )\n",
    "])\n",
    "\n",
    "layout = dict(showlegend=False, #title='CLT',\n",
    "              xaxis = dict(range = [-r,r]),\n",
    "              updatemenus=updatemenus)\n",
    "\n",
    "fig = dict(data=data, layout=layout)\n",
    "iplot(fig, show_link=False)"
   ]
  },
  {
   "cell_type": "code",
   "execution_count": null,
   "metadata": {},
   "outputs": [],
   "source": []
  },
  {
   "cell_type": "code",
   "execution_count": null,
   "metadata": {},
   "outputs": [],
   "source": [
    "new_A, new_allA = pd.DataFrame({'A': A, 'allA': allA}).rolling(10).sum().values.T"
   ]
  },
  {
   "cell_type": "code",
   "execution_count": null,
   "metadata": {},
   "outputs": [],
   "source": [
    "data = [go.Histogram(x=new_A / new_allA, \n",
    "                     opacity=0.75,\n",
    "                    xbins=dict(\n",
    "                        start=0,\n",
    "                        end=1,\n",
    "                        size=0.003)\n",
    "                    )]\n",
    "iplot(data, show_link=False)"
   ]
  },
  {
   "cell_type": "markdown",
   "metadata": {},
   "source": [
    "---"
   ]
  },
  {
   "cell_type": "code",
   "execution_count": null,
   "metadata": {},
   "outputs": [],
   "source": [
    "data = new_A/new_allA\n",
    "data = data[~np.isnan(data)]"
   ]
  },
  {
   "cell_type": "code",
   "execution_count": null,
   "metadata": {},
   "outputs": [],
   "source": [
    "qq = stats.probplot(data, dist='lognorm', sparams=(1))\n",
    "x = np.array([qq[0][0][0],qq[0][0][-1]])\n",
    "pts = go.Scatter(x=qq[0][0],\n",
    "                 y=qq[0][1], \n",
    "                 mode = 'markers',\n",
    "                 showlegend=False\n",
    "                )\n",
    "line = go.Scatter(x=x,\n",
    "                  y=qq[1][1] + qq[1][0]*x,\n",
    "                  showlegend=False,\n",
    "                  mode='lines'\n",
    "                 )\n",
    "\n",
    "data = [pts, line]\n",
    "layout = dict(xaxis = dict(zeroline = False,\n",
    "                           linewidth = 1,\n",
    "                           mirror = True),\n",
    "              yaxis = dict(zeroline = False, \n",
    "                           linewidth = 1,\n",
    "                           mirror = True),\n",
    "             )\n",
    "\n",
    "fig = dict(data=data, layout=layout)\n",
    "iplot(fig, show_link=False)"
   ]
  },
  {
   "cell_type": "markdown",
   "metadata": {},
   "source": [
    "---\n",
    "The z-test is essentially identical to the chi square test, except that we estimate the standard normal deviate ($z$).<br/>\n",
    "The square of the test statistic ($z^2$) is identical to the Pearson's chi square statistic $\\chi^2$<br/><br/>\n",
    "The z-test is sometimes preferred to the chi-square test as it allows the computation of the size of the difference between the two proportions. A confidence interval can be attached to that difference using either the normal approximation or a variety of exact or small sample methods."
   ]
  },
  {
   "cell_type": "markdown",
   "metadata": {},
   "source": [
    "[Binomial confidence intervals and contingency tests: mathematical fundamentals and the evaluation of alternative meth\n",
    "ods](https://www.ucl.ac.uk/english-usage/staff/sean/resources/binomialpoisson.pdf)"
   ]
  },
  {
   "cell_type": "markdown",
   "metadata": {},
   "source": [
    "---\n",
    "### `1.2` Chi-squared Test  \n",
    "\n",
    "[1] [Pearson's chi-squared test](https://en.wikipedia.org/wiki/Pearson%27s_chi-squared_test)\n",
    "\n",
    "[2] [Pearson's chi square test of independence](http://influentialpoints.com/Training/pearsons_chi_square_test_of_independence-principles-properties-assumptions.htm#assu)"
   ]
  },
  {
   "cell_type": "markdown",
   "metadata": {},
   "source": [
    "Pearson's chi-squared test ($\\chi^2$) is a statistical test applied to sets of categorical data to evaluate how likely it is that any observed difference between the sets arose by chance.\n",
    "\n",
    "It is suitable for unpaired data from large samples.\n",
    "\n",
    "It tests a null hypothesis stating that the frequency distribution of certain events observed in a sample is consistent with a particular theoretical distribution. The events considered must be mutually exclusive and have total probability 1.\n",
    "\n",
    "---\n",
    "\n",
    "1. Calculate the chi-squared test statistic, $\\chi^{2}$, which resembles a normalized sum of squared deviations between observed and theoretical frequencies.<br/><br/>\n",
    "\n",
    "2. Determine the degrees of freedom, $df$, of that statistic. <br/>\n",
    "For test of independence, $df = (Rows - 1)×(Cols - 1)$, where in this case, Rows corresponds to number of categories in one variable, and Cols corresponds to number of categories in the second variable. Thus for a two by two contingency table there is always just one degree of freedom. <br/><br/>\n",
    "\n",
    "3. Accept or reject the null hypothesis based on a desired level of confidence (significance level)"
   ]
  },
  {
   "cell_type": "code",
   "execution_count": null,
   "metadata": {},
   "outputs": [],
   "source": [
    "CT = [[X_A, n_A-X_A], [X_B, n_B-X_B]]\n",
    "CT"
   ]
  },
  {
   "attachments": {
    "image.png": {
     "image/png": "[encoded data removed]"
    }
   },
   "cell_type": "markdown",
   "metadata": {},
   "source": [
    "![image.png](attachment:image.png)"
   ]
  },
  {
   "cell_type": "markdown",
   "metadata": {},
   "source": [
    "$$\\chi^2 = \\frac{n\\left(ad-bc\\right)^2}{\\left(a+b\\right)\\left(a+c\\right)\\left(b+d\\right)\\left(c+d\\right)}$$"
   ]
  },
  {
   "cell_type": "code",
   "execution_count": null,
   "metadata": {},
   "outputs": [],
   "source": [
    "n = sum(cell for row in CT for cell in row)"
   ]
  },
  {
   "cell_type": "code",
   "execution_count": null,
   "metadata": {
    "scrolled": true
   },
   "outputs": [],
   "source": [
    "# Chi-square score\n",
    "chi2 = (n-1)*(CT[0][0]*CT[1][1]-CT[0][1]*CT[1][0])**2/\\\n",
    "        ((CT[0][0]+CT[0][1])*(CT[0][0]+CT[1][0])*(CT[0][1]+CT[1][1])*(CT[1][0]+CT[1][1]))\n",
    "chi2"
   ]
  },
  {
   "cell_type": "markdown",
   "metadata": {},
   "source": [
    "For the 2 × 2 table the formulation above is mathematically identical to the square of the statistic obtained in the z-test for independent proportions."
   ]
  },
  {
   "cell_type": "code",
   "execution_count": null,
   "metadata": {},
   "outputs": [],
   "source": [
    "# Same as\n",
    "z**2"
   ]
  },
  {
   "cell_type": "code",
   "execution_count": null,
   "metadata": {},
   "outputs": [],
   "source": [
    "# Critical value\n",
    "stats.chi2(df=1).ppf(.95)"
   ]
  },
  {
   "cell_type": "code",
   "execution_count": null,
   "metadata": {},
   "outputs": [],
   "source": [
    "# p-value\n",
    "1-stats.chi2(df=1).cdf(chi2)"
   ]
  },
  {
   "cell_type": "markdown",
   "metadata": {},
   "source": [
    "---"
   ]
  },
  {
   "cell_type": "markdown",
   "metadata": {},
   "source": [
    "The correction is usually only recommended if the smallest expected frequency is less than 5. Note that the correction should not be applied if |ad − bc| is less than n/2."
   ]
  },
  {
   "cell_type": "code",
   "execution_count": null,
   "metadata": {},
   "outputs": [],
   "source": [
    "# With Yates correction\n",
    "chi2_corr = n*(abs(CT[0][0]*CT[1][1]-CT[0][1]*CT[1][0]) - n/2)**2/\\\n",
    "            ((CT[0][0]+CT[0][1])*(CT[0][0]+CT[1][0])*(CT[0][1]+CT[1][1])*(CT[1][0]+CT[1][1]))\n",
    "chi2_corr"
   ]
  },
  {
   "cell_type": "code",
   "execution_count": null,
   "metadata": {
    "scrolled": true
   },
   "outputs": [],
   "source": [
    "# Same as\n",
    "z_corr**2"
   ]
  },
  {
   "cell_type": "code",
   "execution_count": null,
   "metadata": {},
   "outputs": [],
   "source": [
    "# p-value\n",
    "1-stats.chi2(df=1).cdf(chi2_corr)"
   ]
  },
  {
   "cell_type": "markdown",
   "metadata": {},
   "source": [
    "---"
   ]
  },
  {
   "cell_type": "code",
   "execution_count": null,
   "metadata": {},
   "outputs": [],
   "source": [
    "# Chi-square score\n",
    "chi2 = (n-1)*(CT[0][0]*CT[1][1]-CT[0][1]*CT[1][0])**2/\\\n",
    "        ((CT[0][0]+CT[0][1])*(CT[0][0]+CT[1][0])*(CT[0][1]+CT[1][1])*(CT[1][0]+CT[1][1]))\n",
    "chi2"
   ]
  },
  {
   "cell_type": "markdown",
   "metadata": {},
   "source": [
    "---"
   ]
  },
  {
   "cell_type": "code",
   "execution_count": null,
   "metadata": {},
   "outputs": [],
   "source": [
    "# PYTHON: PEARSON CHI-SQUARE TEST\n",
    "# Does Yates' correction\n",
    "# (R analogue: chisq.test(), prop.test() ~ gives also the confidence interval)\n",
    "\n",
    "# Get statistic, p-value\n",
    "stat, pvalue, *rest = stats.chi2_contingency(CT)"
   ]
  },
  {
   "cell_type": "code",
   "execution_count": null,
   "metadata": {},
   "outputs": [],
   "source": [
    "# z**2 computed with Yates' continuity correction\n",
    "stat"
   ]
  },
  {
   "cell_type": "code",
   "execution_count": null,
   "metadata": {},
   "outputs": [],
   "source": [
    "# Look at p-value\n",
    "pvalue"
   ]
  },
  {
   "cell_type": "code",
   "execution_count": null,
   "metadata": {},
   "outputs": [],
   "source": [
    "if pvalue > 0.05:\n",
    "    print('We do not have strong evidence against the null here.')\n",
    "else:\n",
    "    print('We do have evidence against the null hypothesis!')"
   ]
  },
  {
   "cell_type": "markdown",
   "metadata": {},
   "source": [
    "This shows the rate that this difference between A and B can happen by a random chance. In this case, the number is `x`, which means that this difference can happen by chance at a rate of `x*100%`. <br/>\n",
    "And this means, in a world where this value needs to be less than 5% to state a statistical significance, we can/can’t conclude that the difference between A and B is statistically significant. "
   ]
  },
  {
   "cell_type": "markdown",
   "metadata": {},
   "source": [
    "The probability that we would observe this or an even more imbalanced ratio by chance is about 3.5%.<br/>\n",
    "A commonly used significance level is 5%–if we adopt that, we can therefore conclude that our observed imbalance is statistically significant"
   ]
  },
  {
   "cell_type": "markdown",
   "metadata": {},
   "source": [
    "---\n",
    "#### Confidence Interval\n",
    "\n",
    "For small sample sizes, many - but not all - statisticians feel that a correction for continuity should be applied. This is because a continuous distribution (chi square) is being used to represent the discrete distribution of sample frequencies. "
   ]
  },
  {
   "cell_type": "code",
   "execution_count": null,
   "metadata": {},
   "outputs": [],
   "source": [
    "# alternative = \"two.sided\"\n",
    "conf_level = 0.95"
   ]
  },
  {
   "cell_type": "code",
   "execution_count": null,
   "metadata": {},
   "outputs": [],
   "source": [
    "ESTIMATE = np.array([a, b])\n",
    "n = np.array([n_A, n_B])"
   ]
  },
  {
   "cell_type": "code",
   "execution_count": null,
   "metadata": {},
   "outputs": [],
   "source": [
    "WIDTH = stats.norm.ppf((1 + conf_level)/2) * np.sqrt(sum(ESTIMATE * (1 - ESTIMATE)/n)) + Yates"
   ]
  },
  {
   "cell_type": "code",
   "execution_count": null,
   "metadata": {},
   "outputs": [],
   "source": [
    "print('CI: (',max(a-b - WIDTH, -1),',', min(a-b + WIDTH, 1),')')"
   ]
  },
  {
   "cell_type": "markdown",
   "metadata": {},
   "source": [
    "! The approximation to the chi-squared distribution breaks down if expected frequencies are too low\n",
    "\n",
    "---\n",
    "\n",
    "For very small sample sizes the conventional wisdom has been to use Fisher's exact test, although use of an exact test based on the correct model is now preferred. \n",
    "\n",
    "http://influentialpoints.com/Training/pearsons_chi_square_test_of_independence-principles-properties-assumptions.htm#exac"
   ]
  },
  {
   "cell_type": "markdown",
   "metadata": {},
   "source": [
    "---\n",
    "\n",
    "### Fisher's exact test\n",
    "\n",
    "[1] [Fisher's exact test](https://en.wikipedia.org/wiki/Fisher%27s_exact_test#cite_note-Choi2015-19)\n",
    "\n",
    "[1] [Two-Sample Binomial Proportion Test](http://mlwiki.org/index.php/Binomial_Proportion_Tests#Two-Sample_Binomial_Proportion_Test)\n",
    "\n",
    "[2] https://stats.stackexchange.com/questions/16319/one-sided-fishers-exact-test-and-its-complement\n",
    "\n",
    "https://en.wikipedia.org/wiki/Fisher%27s_exact_test#cite_note-Choi2015-19\n",
    "\n",
    "---\n",
    "Although in practice it is employed when sample sizes are small, it is valid for all sample sizes.\n",
    "\n",
    "When one or more of the counts in the $2\\times2$ table are small (i.e. $<5$) the asymptotic justification of Pearson's chi-squared test may not be appropriate. One alternative is Fisher's so called 'exact' test. \n",
    "\n",
    "Calculates the probability of observing the observed data or more extreme, under the null hypothesis."
   ]
  },
  {
   "attachments": {
    "image.png": {
     "image/png": "[encoded data removed]"
    }
   },
   "cell_type": "markdown",
   "metadata": {},
   "source": [
    "![image.png](attachment:image.png)"
   ]
  },
  {
   "cell_type": "code",
   "execution_count": null,
   "metadata": {},
   "outputs": [],
   "source": [
    "[a, b], [c, d] = CT\n",
    "n = a + b + c + d"
   ]
  },
  {
   "cell_type": "markdown",
   "metadata": {},
   "source": [
    "![Image](https://wikimedia.org/api/rest_v1/media/math/render/svg/355286b9e9fdc48395ff99ab24694092ee8f5b49)\n",
    "\n",
    "Hypergeometric Distribution"
   ]
  },
  {
   "cell_type": "code",
   "execution_count": null,
   "metadata": {},
   "outputs": [],
   "source": [
    "# stats.hypergeom.pmf(b, n, a+b, b+d, loc=0)"
   ]
  },
  {
   "cell_type": "code",
   "execution_count": null,
   "metadata": {},
   "outputs": [],
   "source": [
    "# One-sided LESS\n",
    "pvalue = 0.0\n",
    "for i in range(a+1):\n",
    "    pvalue += stats.hypergeom.pmf((b+i), n, a+b, b+d)\n",
    "pvalue"
   ]
  },
  {
   "cell_type": "code",
   "execution_count": null,
   "metadata": {},
   "outputs": [],
   "source": [
    "# One-sided GREATER\n",
    "pvalue = 0.0\n",
    "for i in range(b+1):\n",
    "    pvalue += stats.hypergeom.pmf(b-i, n, a+b, b+d)\n",
    "pvalue"
   ]
  },
  {
   "cell_type": "code",
   "execution_count": null,
   "metadata": {},
   "outputs": [],
   "source": [
    "# Need to do some binary search here, use function"
   ]
  },
  {
   "cell_type": "markdown",
   "metadata": {},
   "source": [
    "---"
   ]
  },
  {
   "cell_type": "code",
   "execution_count": null,
   "metadata": {},
   "outputs": [],
   "source": [
    "oddsratio, pvalue = stats.fisher_exact([[1, 9], [11, 4]], 'less')\n",
    "pvalue"
   ]
  },
  {
   "cell_type": "markdown",
   "metadata": {},
   "source": [
    "---"
   ]
  },
  {
   "cell_type": "code",
   "execution_count": null,
   "metadata": {},
   "outputs": [],
   "source": [
    "oddsratio, pvalue = stats.fisher_exact(CT)\n",
    "pvalue"
   ]
  },
  {
   "cell_type": "code",
   "execution_count": null,
   "metadata": {},
   "outputs": [],
   "source": [
    "# H0: A==B \n",
    "# H1: Number of conversions is lower in group A\n",
    "oddsratio, pvalue = stats.fisher_exact([[a, b], [c, d]], alternative='less')\n",
    "pvalue"
   ]
  },
  {
   "cell_type": "markdown",
   "metadata": {},
   "source": [
    "---\n",
    "Fisher's test or Chi-square?\n",
    "\n",
    "This is actually something that is debated among statisticians. Historically, you avoided Fisher's because it becomes very computationally complex. Generally speaking, however, Fisher's Exact Test is conservative and if your numbers are large enough, the chi-square statistic (which is what prop.test calculates) is more likely to not commit a type II error."
   ]
  },
  {
   "cell_type": "markdown",
   "metadata": {},
   "source": [
    "---\n",
    "\n",
    "---\n",
    "\n",
    "---"
   ]
  },
  {
   "cell_type": "markdown",
   "metadata": {},
   "source": [
    "## Bayesian A/B Testing\n",
    "\n",
    "[1] [Introduction to bayesAB](https://cran.r-project.org/web/packages/bayesAB/vignettes/introduction.html)\n",
    "\n",
    "[2] [Package ‘bayesAB’](https://cran.r-project.org/web/packages/bayesAB/bayesAB.pdf)\n",
    "\n",
    "[2] [Coding Bayesian AB Tests in Python to Boost your App or Website Conversions](https://medium.com/@thibalbo/coding-bayesian-ab-tests-in-python-e89356b3f4bd)\n",
    "\n",
    "[3] [Stastical Advice for A/B Testing](http://sl8r000.github.io/ab_testing_statistics/#)\n",
    "\n",
    "[4] [A/B Testing with Hierarchical Models in Python](https://blog.dominodatalab.com/ab-testing-with-hierarchical-models-in-python/)\n",
    "\n",
    "[5] [Formulas for Bayesian A/B Testing](https://www.evanmiller.org/bayesian-ab-testing.html)\n",
    "\n",
    "[6] []()"
   ]
  },
  {
   "cell_type": "markdown",
   "metadata": {},
   "source": [
    "---"
   ]
  },
  {
   "cell_type": "markdown",
   "metadata": {},
   "source": [
    "---\n",
    "### [An Introduction to Bayesian A/B Testing in Exploratory](https://blog.exploratory.io/an-introduction-to-bayesian-a-b-testing-in-exploratory-cb5a7ad80963)\n",
    "\n",
    "- Give you ‘probability’ of how much A is better (or worse) than B <br/>\n",
    "\n",
    "\n",
    "\\+ More intuitive\n",
    "\n",
    "\\+ You don’t have to worry too much about the test size when you evaluate the result (you can start evaluating the result from the first day)\n",
    "\n",
    "\n",
    "$Prior$\n",
    "\n",
    "$Posterior$"
   ]
  },
  {
   "cell_type": "code",
   "execution_count": null,
   "metadata": {},
   "outputs": [],
   "source": [
    "# Expected Improvement Rate ~ how much A is better than B. \n",
    "# (A-B) / B * 100"
   ]
  },
  {
   "cell_type": "code",
   "execution_count": null,
   "metadata": {},
   "outputs": [],
   "source": [
    "df = pd.DataFrame({'landingPage': ['A','B']*5,           \n",
    "                   'uniquePageView': [600,199,1129,1127,1008,1145,1107,1108,959,970],\n",
    "                   'signUpCount': [65,22,104,111,101,129,119,110,85,90]})\n",
    "df['ConversionRate'] = df['signUpCount']/df['uniquePageView']\n",
    "df"
   ]
  },
  {
   "cell_type": "code",
   "execution_count": null,
   "metadata": {},
   "outputs": [],
   "source": [
    "A = np.array(df.loc[df['landingPage']=='A','ConversionRate'])\n",
    "B = np.array(df.loc[df['landingPage']=='B','ConversionRate'])"
   ]
  },
  {
   "cell_type": "markdown",
   "metadata": {},
   "source": [
    "---"
   ]
  },
  {
   "cell_type": "code",
   "execution_count": null,
   "metadata": {},
   "outputs": [],
   "source": [
    "# Simulate some data\n",
    "n = 100\n",
    "\n",
    "# Visitors\n",
    "A, B = np.random.binomial(2000, p=0.5, size=(2, n))\n",
    "\n",
    "# Add conversions\n",
    "A = np.column_stack([A, np.random.binomial(n=A, p=0.05)])\n",
    "B = np.column_stack([B, np.random.binomial(n=B, p=0.06)])\n",
    "\n",
    "# Conversion Rates\n",
    "a = A[:,1] / A[:,0]\n",
    "b = B[:,1] / B[:,0]"
   ]
  },
  {
   "cell_type": "code",
   "execution_count": null,
   "metadata": {},
   "outputs": [],
   "source": [
    "dt = (a-b)/a\n",
    "hist1 = go.Histogram(x=dt[dt>=0], \n",
    "                    opacity=0.75, \n",
    "                    xbins=dict(\n",
    "                        start=0,\n",
    "                        end=1,\n",
    "                        size=0.04),\n",
    "                    histnorm='',\n",
    "                    name='A is Better',\n",
    "                    showlegend=False,\n",
    "                    )\n",
    "hist2 = go.Histogram(x=dt[dt<0], \n",
    "                    opacity=0.75, \n",
    "                    xbins=dict(\n",
    "                        start=-1,\n",
    "                        end=0,\n",
    "                        size=0.04),\n",
    "                    histnorm='',\n",
    "                    name='A is not better',\n",
    "                    showlegend=False,\n",
    "                    )\n",
    "layout = go.Layout(barmode='overlay', \n",
    "                  title='Relative difference: (A-B)/A',\n",
    "                  yaxis=dict(title='Counts'))\n",
    "fig = go.Figure(data=[hist1, hist2], layout=layout)\n",
    "iplot(fig, show_link=False)"
   ]
  },
  {
   "cell_type": "code",
   "execution_count": null,
   "metadata": {},
   "outputs": [],
   "source": [
    "# The probability of A being ~ up to 2% better than B (take the median of the interval)\n",
    "sum((dt>=0.0) & (dt<0.04))/len(dt)"
   ]
  },
  {
   "cell_type": "code",
   "execution_count": null,
   "metadata": {},
   "outputs": [],
   "source": [
    "# The probability of A being ~ 8-10% worse than B (take the median of the interval)\n",
    "sum((dt>=-0.12) & (dt<-0.08))/len(dt)"
   ]
  },
  {
   "cell_type": "markdown",
   "metadata": {},
   "source": [
    "---"
   ]
  },
  {
   "cell_type": "code",
   "execution_count": null,
   "metadata": {},
   "outputs": [],
   "source": [
    "# Probability of A being better\n",
    "(dt>0).mean()"
   ]
  },
  {
   "cell_type": "code",
   "execution_count": null,
   "metadata": {},
   "outputs": [],
   "source": [
    "# Probability of B being better\n",
    "(dt<0).mean()"
   ]
  },
  {
   "cell_type": "code",
   "execution_count": null,
   "metadata": {},
   "outputs": [],
   "source": [
    "# Expected Improvement Rate if segment B is chosen (assume that A is the current setup)\n",
    "b.mean()- a.mean()"
   ]
  },
  {
   "cell_type": "markdown",
   "metadata": {},
   "source": [
    "---\n",
    "#### Add Prior information to the model"
   ]
  },
  {
   "cell_type": "code",
   "execution_count": null,
   "metadata": {},
   "outputs": [],
   "source": [
    "# Real-time performance\n",
    "# updating priors"
   ]
  },
  {
   "cell_type": "markdown",
   "metadata": {},
   "source": [
    "---"
   ]
  },
  {
   "cell_type": "code",
   "execution_count": null,
   "metadata": {},
   "outputs": [],
   "source": [
    "a = np.random.normal(1200, 100, 1000)\n",
    "b = np.random.normal(1500, 150, 1000)\n",
    "df = pd.DataFrame(np.transpose([a,b]), columns=['a','b'])\n",
    "a = df.a\n",
    "b = df.b\n",
    "\n",
    "trace1 = go.Histogram(\n",
    "    x=df.a,\n",
    "    opacity=0.75,\n",
    "    histnorm='probability',\n",
    "    name='> 180 t/h'\n",
    ")\n",
    "trace2 = go.Histogram(\n",
    "    x=df.b,\n",
    "    opacity=0.75,\n",
    "    histnorm='probability',\n",
    "    name='< 160 t/h',\n",
    "    yaxis='y2'\n",
    ")\n",
    "\n",
    "# Create traces\n",
    "\n",
    "\n",
    "data = [trace1, trace2]\n",
    "\n",
    "layout = go.Layout(\n",
    "    title='item',\n",
    "    barmode='overlay',\n",
    "    xaxis=dict(\n",
    "    title=''\n",
    "    ),\n",
    "    yaxis=dict(\n",
    "        title='Normalized Frequency < 160 t/h'\n",
    "    ),\n",
    "    yaxis2=dict(\n",
    "        title='Normalized Frequency > 180 t/h',\n",
    "        anchor='free',\n",
    "        overlaying='y',\n",
    "        side='right',\n",
    "        position=1\n",
    "    ),\n",
    "\n",
    "    # Mean lines\n",
    "    shapes= [{'line': {'color': '#0099FF', 'dash': 'solid', 'width': 1},\n",
    "    'type': 'line',\n",
    "    'x0': df.a.mean(),\n",
    "    'x1': df.a.mean(),\n",
    "    'xref': 'x',\n",
    "    'y0': -0.1,\n",
    "    'y1': 1,\n",
    "    'yref': 'paper'},\n",
    "   {'line': {'color': '#FDAB5A', 'dash': 'solid', 'width': 1},\n",
    "    'type': 'line',\n",
    "    'x0': df.b.mean(),\n",
    "    'x1': df.b.mean(),\n",
    "    'xref': 'x',\n",
    "    'y0': -0.1,\n",
    "    'y1': 1,\n",
    "    'yref': 'paper'}],\n",
    "\n",
    "    # Annotations\n",
    "    annotations=[\n",
    "        dict(\n",
    "            x=df.a.mean(),\n",
    "            y=1,\n",
    "            xref='x',\n",
    "            yref='paper',\n",
    "            text=\"Mean a = {:,.0f}\".format(df.a.mean()),\n",
    "            showarrow=True,\n",
    "            arrowhead=7,\n",
    "            ax=1,\n",
    "            ay=1,\n",
    "            axref='paper',\n",
    "            ayref='paper'\n",
    "        ),\n",
    "        dict(\n",
    "            x=df.b.mean(),\n",
    "            y=0.95,\n",
    "            xref='x',\n",
    "            yref='paper',\n",
    "            text=\"Mean b = {:,.0f}\".format(df.b.mean()),\n",
    "            showarrow=True,\n",
    "            arrowhead=7,\n",
    "            ax=1,\n",
    "            ay=1,\n",
    "            axref='paper',\n",
    "            ayref='paper'\n",
    "        )\n",
    "    ]\n",
    "\n",
    ") \n",
    "fig = go.Figure(data=data, layout=layout)\n",
    "iplot(fig, show_link=False)"
   ]
  },
  {
   "cell_type": "markdown",
   "metadata": {},
   "source": [
    "---"
   ]
  },
  {
   "cell_type": "markdown",
   "metadata": {},
   "source": [
    "### [Bayesian A/B Testing with Python](https://medium.com/hockey-stick/tl-dr-bayesian-a-b-testing-with-python-c495d375db4d)\n",
    "\n",
    "The broad idea behind Bayesian conversion rate testing is to generate two distributions which cover all possible rates and then update them with information about the test performance and adjust our expectation of the most representative rate accordingly."
   ]
  },
  {
   "cell_type": "code",
   "execution_count": null,
   "metadata": {},
   "outputs": [],
   "source": [
    "xrange = np.arange(0,0.5,0.0025)\n",
    "beta1 = go.Scatter(x=xrange, \n",
    "                  y=stats.beta.pdf(xrange, a=16, b=100-16), \n",
    "                  mode='lines',\n",
    "                  line=dict(width=1.5),\n",
    "                  name='Beta(16, 84)',\n",
    "                 )\n",
    "beta2 = go.Scatter(x=xrange, \n",
    "                     y=stats.beta.pdf(xrange, a=8, b=42),  \n",
    "                     mode='lines',\n",
    "                     line=dict(width=1.5),\n",
    "                     name='Beta(8, 42)',\n",
    "                    )\n",
    "                    \n",
    "data = [beta1, beta2]\n",
    "iplot(data, show_link=False)"
   ]
  },
  {
   "cell_type": "markdown",
   "metadata": {},
   "source": [
    "---\n",
    "#### Generating a small number of random results"
   ]
  },
  {
   "cell_type": "code",
   "execution_count": null,
   "metadata": {},
   "outputs": [],
   "source": [
    "people_in_branch = 50\n",
    "\n",
    "# Control is Alpaca, Experiment is Bear\n",
    "control, experiment = np.random.rand(2, people_in_branch)\n",
    "\n",
    "c_successes = sum(control < 0.16)\n",
    "\n",
    "# Bears are about 10% better relative to Alpacas\n",
    "e_successes = sum(experiment < 0.176)\n",
    "\n",
    "c_failures = people_in_branch - c_successes\n",
    "e_failures = people_in_branch - e_successes\n",
    "\n",
    "# Our Priors\n",
    "prior_successes = 8\n",
    "prior_failures = 42"
   ]
  },
  {
   "cell_type": "markdown",
   "metadata": {},
   "source": [
    "---"
   ]
  },
  {
   "cell_type": "code",
   "execution_count": null,
   "metadata": {},
   "outputs": [],
   "source": [
    "# Control\n",
    "c_alpha, c_beta = c_successes + prior_successes, c_failures + prior_failures\n",
    "# Experiment\n",
    "e_alpha, e_beta = e_successes + prior_successes, e_failures + prior_failures\n",
    "\n",
    "x = np.linspace(0., 0.5, 1000)\n",
    "\n",
    "# Generate and plot the distributions!\n",
    "c_distribution = stats.beta(c_alpha, c_beta)\n",
    "e_distribution = stats.beta(e_alpha, e_beta)"
   ]
  },
  {
   "cell_type": "code",
   "execution_count": null,
   "metadata": {},
   "outputs": [],
   "source": [
    "trace_C = go.Scatter(x=x,\n",
    "                     y=c_distribution.pdf(x),\n",
    "                     name=\"Control\",\n",
    "                     opacity=0.8,\n",
    "                     line=dict(shape='spline')\n",
    "                    )\n",
    "\n",
    "trace_E = go.Scatter(x=x,\n",
    "                     y=e_distribution.pdf(x),\n",
    "                     name=\"Experiment\",\n",
    "                     opacity=0.8,\n",
    "                     line=dict(shape='spline')\n",
    "                    )\n",
    "\n",
    "data = [trace_C, trace_E]\n",
    "\n",
    "layout = dict(\n",
    "    title = \"Split Test\",    \n",
    "    xaxis=dict(title='Conversion Rate',),\n",
    "    yaxis=dict(title='Density',)\n",
    ")\n",
    "\n",
    "fig = dict(data=data, layout=layout)\n",
    "iplot(fig, show_link=False)"
   ]
  },
  {
   "cell_type": "markdown",
   "metadata": {},
   "source": [
    "It’s pretty clear we need some more data to make an accurate decision"
   ]
  },
  {
   "cell_type": "markdown",
   "metadata": {},
   "source": [
    "---\n",
    "#### More Data"
   ]
  },
  {
   "cell_type": "code",
   "execution_count": null,
   "metadata": {},
   "outputs": [],
   "source": [
    "more_people_in_branch = 4000\n",
    "\n",
    "# Control is Alpaca, Experiment is Bear\n",
    "control, experiment = np.random.rand(2, more_people_in_branch)\n",
    "\n",
    "# Add to existing data\n",
    "c_successes += sum(control < 0.16)\n",
    "e_successes += sum(experiment < 0.176)\n",
    "\n",
    "c_failures += more_people_in_branch - sum(control < 0.16)\n",
    "e_failures += more_people_in_branch - sum(experiment < 0.176)"
   ]
  },
  {
   "cell_type": "markdown",
   "metadata": {},
   "source": [
    "---"
   ]
  },
  {
   "cell_type": "code",
   "execution_count": null,
   "metadata": {},
   "outputs": [],
   "source": [
    "# Control\n",
    "c_alpha, c_beta = c_successes + prior_successes, c_failures + prior_failures\n",
    "# Experiment\n",
    "e_alpha, e_beta = e_successes + prior_successes, e_failures + prior_failures\n",
    "\n",
    "# Generate and plot the distributions!\n",
    "c_distribution = stats.beta(c_alpha, c_beta)\n",
    "e_distribution = stats.beta(e_alpha, e_beta)"
   ]
  },
  {
   "cell_type": "code",
   "execution_count": null,
   "metadata": {},
   "outputs": [],
   "source": [
    "trace_C = go.Scatter(\n",
    "                x=x,\n",
    "                y=c_distribution.pdf(x),\n",
    "                name = \"Control\",\n",
    "                opacity = 0.8,\n",
    "                line = dict(shape = 'spline')\n",
    ")\n",
    "\n",
    "trace_E = go.Scatter(\n",
    "                x=x,\n",
    "                y=e_distribution.pdf(x),\n",
    "                name = \"Experiment\",\n",
    "                opacity = 0.8,\n",
    "                line = dict(shape = 'spline')\n",
    ")\n",
    "\n",
    "data = [trace_C,trace_E]\n",
    "\n",
    "layout = dict(\n",
    "    title = \"Split Test\",    \n",
    "    xaxis=dict(title='Conversion Rate',),\n",
    "    yaxis=dict(title='Density',)\n",
    ")\n",
    "\n",
    "\n",
    "fig = dict(data=data, layout=layout)\n",
    "# fig.xaxis.update(title = 'AA')\n",
    "\n",
    "iplot(fig, show_link=False)"
   ]
  },
  {
   "cell_type": "code",
   "execution_count": null,
   "metadata": {},
   "outputs": [],
   "source": [
    "# Arguments are x values so use ppf - the inverse of cdf\n",
    "print(c_distribution.ppf([0.025, 0.5, 0.975]))\n",
    "print(e_distribution.ppf([0.025, 0.5, 0.975]))"
   ]
  },
  {
   "cell_type": "markdown",
   "metadata": {},
   "source": [
    "---\n",
    "**Bayesian p-values**"
   ]
  },
  {
   "cell_type": "markdown",
   "metadata": {},
   "source": [
    "What is the probability that Alpacas are actually better than Bears?"
   ]
  },
  {
   "cell_type": "code",
   "execution_count": null,
   "metadata": {},
   "outputs": [],
   "source": [
    "sample_size = 100000\n",
    "\n",
    "c_samples = c_distribution.rvs(size=sample_size)\n",
    "e_samples = e_distribution.rvs(size=sample_size)\n",
    "\n",
    "p_ish_value = np.mean(c_samples > e_samples)\n",
    "p_ish_value"
   ]
  },
  {
   "cell_type": "markdown",
   "metadata": {},
   "source": [
    "---\n",
    "How much of an improvement we think the Experiment is vs. the Control?"
   ]
  },
  {
   "cell_type": "code",
   "execution_count": null,
   "metadata": {
    "scrolled": true
   },
   "outputs": [],
   "source": [
    "# Generate a CDF of the B samples over the A samples\n",
    "ser = np.sort(e_samples/c_samples)\n",
    "cum_dist = np.linspace(0., 1., len(ser))"
   ]
  },
  {
   "cell_type": "code",
   "execution_count": null,
   "metadata": {},
   "outputs": [],
   "source": [
    "trace = go.Scatter(x=ser,\n",
    "                   y=cum_dist,\n",
    "                   line=dict(shape='spline'))\n",
    "data = [trace]\n",
    "\n",
    "layout = dict(\n",
    "    title = \"CDF of the B samples over the A samples\",    \n",
    "    xaxis=dict(title='Bears / Alpacas'),\n",
    "    yaxis=dict(title='CDF')\n",
    ")\n",
    "\n",
    "fig = dict(data=data, layout=layout)\n",
    "iplot(fig, show_link=False)"
   ]
  },
  {
   "cell_type": "markdown",
   "metadata": {},
   "source": [
    "There aren’t many values below 0 meaning the A branch didn’t win very often. \n",
    "\n",
    "Eyeballing the median we can see it’s pretty close to 1.1, agreeing with our initial “10% better” setting."
   ]
  },
  {
   "cell_type": "markdown",
   "metadata": {},
   "source": [
    "---\n",
    "---\n",
    "\n",
    "### [Coding Bayesian AB Tests in Python](https://medium.com/@thibalbo/coding-bayesian-ab-tests-in-python-e89356b3f4bd)"
   ]
  },
  {
   "cell_type": "markdown",
   "metadata": {},
   "source": [
    "You select 10% of yours users to participate in the test. From those 10%, you split into 2, 3, x variations. The 90% you never touch until you are happy with the results and then scale to all users."
   ]
  },
  {
   "cell_type": "markdown",
   "metadata": {},
   "source": [
    "---\n",
    "#### Build the model"
   ]
  },
  {
   "cell_type": "code",
   "execution_count": null,
   "metadata": {},
   "outputs": [],
   "source": [
    "# Data\n",
    "n = 1000\n",
    "obs_v1 = 680 # observed successes on V1\n",
    "obs_v2 = 700 # observed successes on V2"
   ]
  },
  {
   "cell_type": "markdown",
   "metadata": {},
   "source": [
    "Use a *Beta distribution* for the priors and a *Bernoulli distribution* for the likelihood:"
   ]
  },
  {
   "cell_type": "code",
   "execution_count": null,
   "metadata": {},
   "outputs": [],
   "source": [
    "with pm.Model() as model: # context management\n",
    "    # define priors\n",
    "    prior_v1 = pm.Beta('prior_v1', alpha=2, beta=2)\n",
    "    prior_v2 = pm.Beta('prior_v2', alpha=2, beta=2)\n",
    "\n",
    "    # define likelihood\n",
    "    like_v1 = pm.Binomial('like_v1', n=n, p=prior_v1, observed=obs_v1)\n",
    "    like_v2 = pm.Binomial('like_v2', n=n, p=prior_v2, observed=obs_v2)\n",
    "    "
   ]
  },
  {
   "cell_type": "code",
   "execution_count": null,
   "metadata": {},
   "outputs": [],
   "source": [
    "with model:\n",
    "    # define metrics\n",
    "    pm.Deterministic('difference', prior_v2 - prior_v1)\n",
    "    pm.Deterministic('relation', (prior_v2/prior_v1) - 1)"
   ]
  },
  {
   "cell_type": "code",
   "execution_count": null,
   "metadata": {},
   "outputs": [],
   "source": [
    "xs = np.linspace(0,1,100)\n",
    "trace = go.Scatter(x = xs, y = stats.beta(2,2).pdf(xs))\n",
    "iplot([trace], show_link=False)"
   ]
  },
  {
   "cell_type": "code",
   "execution_count": null,
   "metadata": {},
   "outputs": [],
   "source": [
    "with model:\n",
    "    # inference\n",
    "    trace = pm.sample(draws=50000, step=pm.Metropolis(), start=pm.find_MAP(), progressbar=True)"
   ]
  },
  {
   "cell_type": "code",
   "execution_count": null,
   "metadata": {},
   "outputs": [],
   "source": [
    "pm.traceplot(trace[1000:], grid=True);"
   ]
  },
  {
   "cell_type": "code",
   "execution_count": null,
   "metadata": {},
   "outputs": [],
   "source": [
    "# Posterior: difference & relative\n",
    "_ = pm.plot_posterior(trace[1000:], varnames=['difference', 'relation'], \n",
    "ref_val=0, color='#87ceeb')"
   ]
  },
  {
   "cell_type": "markdown",
   "metadata": {},
   "source": [
    "---"
   ]
  },
  {
   "cell_type": "code",
   "execution_count": null,
   "metadata": {},
   "outputs": [],
   "source": [
    "xs = np.linspace(0,1,100)\n",
    "trace = go.Scatter(x = xs, y = stats.beta(20,10000).pdf(xs),\n",
    "                   line = dict(shape='spline')\n",
    "                  )\n",
    "iplot([trace], show_link=False)"
   ]
  },
  {
   "cell_type": "code",
   "execution_count": null,
   "metadata": {},
   "outputs": [],
   "source": []
  },
  {
   "cell_type": "code",
   "execution_count": null,
   "metadata": {},
   "outputs": [],
   "source": []
  },
  {
   "cell_type": "code",
   "execution_count": null,
   "metadata": {},
   "outputs": [],
   "source": []
  },
  {
   "cell_type": "code",
   "execution_count": null,
   "metadata": {},
   "outputs": [],
   "source": [
    "n = 100\n",
    "# Visitors\n",
    "A, B = np.random.binomial(10000, 0.1, size=(2, n))\n",
    "\n",
    "# Add conversions\n",
    "A = np.column_stack([A, np.random.binomial(n=A, p=0.06)])\n",
    "B = np.column_stack([B, np.random.binomial(n=B, p=0.05)])"
   ]
  },
  {
   "cell_type": "markdown",
   "metadata": {},
   "source": [
    "????"
   ]
  },
  {
   "cell_type": "code",
   "execution_count": null,
   "metadata": {},
   "outputs": [],
   "source": [
    "# Plot the A & B time series\n",
    "xs = np.arange(1,n+1)\n",
    "trace_A = go.Scatter(x=xs, y=A[:,1], name = \"A\", opacity = 0.8)\n",
    "trace_allA = go.Scatter(x=xs, y=A[:,0], name = \"allA\",\n",
    "                        opacity = 0.8, \n",
    "                        line = dict(color = '#64b1fe'),\n",
    "                        showlegend=False)\n",
    "trace_B = go.Scatter(x=xs, y=B[:,1], name = \"B\", opacity = 0.8)\n",
    "trace_allB = go.Scatter(x=xs, y=B[:,0], name = \"allB\",\n",
    "                        opacity = 0.8, \n",
    "                        line = dict(color = '#36fe8e'),\n",
    "                        showlegend=False)\n",
    "\n",
    "data = [trace_A, trace_allA, trace_B, trace_allB]\n",
    "\n",
    "layout = dict(\n",
    "    title = \"Split Test\",\n",
    ")\n",
    "\n",
    "fig = dict(data=data, layout=layout)\n",
    "iplot(fig, show_link=False)"
   ]
  },
  {
   "cell_type": "code",
   "execution_count": null,
   "metadata": {},
   "outputs": [],
   "source": [
    "A[:,0], B[:,0] = np.cumsum(-np.diff(A)[:, 0]), np.cumsum(-np.diff(B)[:, 0])\n",
    "A[:,1], B[:,1] = np.cumsum(A[:,1]), np.cumsum(B[:,1])"
   ]
  },
  {
   "cell_type": "code",
   "execution_count": null,
   "metadata": {},
   "outputs": [],
   "source": [
    "np.column_stack([A,B])"
   ]
  },
  {
   "cell_type": "code",
   "execution_count": null,
   "metadata": {},
   "outputs": [],
   "source": []
  },
  {
   "cell_type": "code",
   "execution_count": null,
   "metadata": {},
   "outputs": [],
   "source": [
    "# Plot evolution of the distributions\n"
   ]
  },
  {
   "cell_type": "code",
   "execution_count": null,
   "metadata": {},
   "outputs": [],
   "source": [
    "xs = np.linspace(0, 1, 10000)\n",
    "\n",
    "fig = go.FigureWidget()\n",
    "dist1 = fig.add_scatter(x=xs, name='A')\n",
    "dist2 = fig.add_scatter(x=xs, name='B')\n",
    "fig['layout'].update(yaxis=dict(range=[0,580]),\n",
    "                     xaxis=dict(range=[0,0.15])\n",
    "                    )\n",
    "\n",
    "@interact(day=(1, n, 1))\n",
    "def update(day=1):\n",
    "    with fig.batch_update():\n",
    "        print('A:',A[day-1,1],A[day-1,0],'\\tB:',B[day-1,1],B[day-1,0])\n",
    "        dist1.y = stats.beta(A[day-1,1],A[day-1,0]).pdf(xs)\n",
    "        dist2.y = stats.beta(B[day-1,1],B[day-1,0]).pdf(xs)\n",
    "fig"
   ]
  },
  {
   "attachments": {
    "image.png": {
     "image/png": "[encoded data removed]"
    }
   },
   "cell_type": "markdown",
   "metadata": {},
   "source": [
    "![image.png](attachment:image.png)"
   ]
  },
  {
   "cell_type": "code",
   "execution_count": null,
   "metadata": {},
   "outputs": [],
   "source": [
    "array([[  889,    50,   926,    43],\n",
    "       [ 1782,   111,  1891,    85],\n",
    "       [ 2736,   183,  2836,   139],\n",
    "       [ 3669,   231,  3784,   193],\n",
    "       [ 4601,   294,  4799,   229],\n",
    "       [ 5539,   348,  5767,   281],"
   ]
  },
  {
   "cell_type": "code",
   "execution_count": null,
   "metadata": {},
   "outputs": [],
   "source": [
    "1-special.beta(3,6)/special.beta(3,1)"
   ]
  },
  {
   "cell_type": "code",
   "execution_count": null,
   "metadata": {},
   "outputs": [],
   "source": [
    "55/56"
   ]
  },
  {
   "cell_type": "code",
   "execution_count": null,
   "metadata": {},
   "outputs": [],
   "source": [
    "alpha1, beta1, alpha2, beta2 = 50, 889, 43, 926\n",
    "rng = np.arange(1,alpha1)"
   ]
  },
  {
   "cell_type": "code",
   "execution_count": null,
   "metadata": {},
   "outputs": [],
   "source": [
    "1 - special.beta(alpha2, beta1+beta2)/special.beta(alpha2, beta2)-\\\n",
    "np.sum(special.beta(alpha2+rng, beta1+beta2)/((rng+1)*special.beta(rng, beta2)*special.beta(alpha2, beta2)))"
   ]
  },
  {
   "cell_type": "code",
   "execution_count": null,
   "metadata": {},
   "outputs": [],
   "source": [
    "special.beta(alpha2+rng, beta1+beta2)"
   ]
  },
  {
   "cell_type": "code",
   "execution_count": null,
   "metadata": {},
   "outputs": [],
   "source": [
    "def prob_xGy(alpha1, beta1, alpha2, beta2):\n",
    "    p = 1 - special.beta(alpha2, beta1+beta2)/special.beta(alpha2, beta2)\n",
    "    rng = np.arange(1,alpha1)\n",
    "    p -= np.sum(special.beta(alpha2+rng, beta1+beta2)/(rng+1*special.beta(rng, beta2)*special.beta(alpha2, beta2)))\n",
    "    return p"
   ]
  },
  {
   "cell_type": "code",
   "execution_count": null,
   "metadata": {
    "scrolled": true
   },
   "outputs": [],
   "source": [
    "prob_xGy(alpha1=50, beta1=889, alpha2=43, beta2=926)"
   ]
  },
  {
   "cell_type": "markdown",
   "metadata": {},
   "source": [
    "https://math.stackexchange.com/questions/897048/finding-px-y-where-x-and-y-have-two-different-beta-distributions"
   ]
  },
  {
   "cell_type": "code",
   "execution_count": null,
   "metadata": {},
   "outputs": [],
   "source": [
    "special.betainc(1,,)"
   ]
  },
  {
   "cell_type": "code",
   "execution_count": null,
   "metadata": {},
   "outputs": [],
   "source": []
  },
  {
   "cell_type": "code",
   "execution_count": null,
   "metadata": {},
   "outputs": [],
   "source": [
    "A_post"
   ]
  },
  {
   "cell_type": "code",
   "execution_count": null,
   "metadata": {},
   "outputs": [],
   "source": []
  },
  {
   "cell_type": "code",
   "execution_count": null,
   "metadata": {},
   "outputs": [],
   "source": [
    "N = 100000\n",
    "trace = [0.5]\n",
    "for i in range(n):\n",
    "    # simulate draws from the posteriors    \n",
    "    A_post = stats.beta(A[i,1], A[i,0]).rvs(size=N)\n",
    "    B_post = stats.beta(B[i,1], B[i,1]).rvs(size=N)\n",
    "    \n",
    "    # compute the P(A better than B):\n",
    "    trace.append(1.0 - np.mean(A_post > B_post))"
   ]
  },
  {
   "cell_type": "code",
   "execution_count": null,
   "metadata": {},
   "outputs": [],
   "source": [
    "xs = np.arange(n+1)\n",
    "data = go.Scatter(x=xs, y=trace, name = \"A\", opacity = 0.8)\n",
    "\n",
    "data = [data]\n",
    "\n",
    "layout = dict(\n",
    "    title = \"Real-time evolution\",\n",
    "    yaxis = dict(range=[0,1]),\n",
    "    \n",
    "    # Mean lines\n",
    "    shapes= [{'line': {'color': '#333F44', 'dash': 'dash', 'width': 1},\n",
    "    'type': 'line',\n",
    "    'x0': 0,\n",
    "    'x1': n,\n",
    "    'xref': 'x',\n",
    "    'y0': 0.025,\n",
    "    'y1': 0.025,\n",
    "    'yref': 'paper'},\n",
    "   {'line': {'color': '#333F44', 'dash': 'dash', 'width': 1},\n",
    "    'type': 'line',\n",
    "    'x0': 0,\n",
    "    'x1': n,\n",
    "    'xref': 'x',\n",
    "    'y0': 0.975,\n",
    "    'y1': 0.975,\n",
    "    'yref': 'paper'}],\n",
    ")\n",
    "\n",
    "fig = dict(data=data, layout=layout)\n",
    "iplot(fig, show_link=False)"
   ]
  },
  {
   "cell_type": "markdown",
   "metadata": {},
   "source": [
    "---\n",
    "---\n",
    "### [A/B Testing with Hierarchical Models in Python](https://blog.dominodatalab.com/ab-testing-with-hierarchical-models-in-python/)\n",
    "\n",
    "using Beta-Binomial Hierarchical models"
   ]
  },
  {
   "cell_type": "markdown",
   "metadata": {},
   "source": [
    "~ used for testing multiple hypotheses"
   ]
  },
  {
   "cell_type": "code",
   "execution_count": null,
   "metadata": {},
   "outputs": [],
   "source": []
  },
  {
   "cell_type": "code",
   "execution_count": null,
   "metadata": {},
   "outputs": [],
   "source": []
  },
  {
   "cell_type": "code",
   "execution_count": null,
   "metadata": {},
   "outputs": [],
   "source": []
  },
  {
   "cell_type": "markdown",
   "metadata": {},
   "source": [
    "https://www.udemy.com/bayesian-machine-learning-in-python-ab-testing/"
   ]
  }
 ],
 "metadata": {
  "kernelspec": {
   "display_name": "Python 3",
   "language": "python",
   "name": "python3"
  },
  "language_info": {
   "codemirror_mode": {
    "name": "ipython",
    "version": 3
   },
   "file_extension": ".py",
   "mimetype": "text/x-python",
   "name": "python",
   "nbconvert_exporter": "python",
   "pygments_lexer": "ipython3",
   "version": "3.6.5"
  }
 },
 "nbformat": 4,
 "nbformat_minor": 2
}
